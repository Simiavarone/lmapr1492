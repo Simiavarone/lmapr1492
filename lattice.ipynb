{
 "cells": [
  {
   "cell_type": "code",
   "execution_count": 26,
   "metadata": {},
   "outputs": [],
   "source": [
    "# téléchargement\n",
    "\n",
    "from pymatgen.symmetry import analyzer as az\n",
    "from pymatgen.ext.matproj import MPRester\n",
    "\n",
    "cle_materiau = \"mp-20072\"\n",
    "cle_utilisateur = \"om6hvHlirPcyuxXF\"\n",
    "\n",
    "with MPRester(cle_utilisateur) as m:\n",
    "    structure = m.get_structure_by_material_id(cle_materiau)"
   ]
  },
  {
   "cell_type": "code",
   "execution_count": 27,
   "metadata": {},
   "outputs": [
    {
     "name": "stdout",
     "output_type": "stream",
     "text": [
      "vecteurs du reseau de base :\n",
      "(6.094486575628851, 6.094486579625087, 6.094486583459561)\n",
      "angles :\n",
      "(36.903503149488465, 36.90350310615188, 36.90350316496777)\n",
      "\n",
      "vecteurs du reseau reciproque :\n",
      "(116.38084898895016, 116.38084910530701, 116.38084894738893)\n",
      "angles :\n",
      "(116.38084898895016, 116.38084910530701, 116.38084894738893)\n"
     ]
    }
   ],
   "source": [
    "# on recupere les vecteurs de base, décrits via leurs angles et longueurs, pour la maille réciproque et la maille directe\n",
    "\n",
    "maille = structure.lattice\n",
    "maille_reciproque = maille.reciprocal_lattice\n",
    "\n",
    "# on imprime les résultats\n",
    "print('vecteurs du reseau de base :')\n",
    "print(maille.abc)\n",
    "print('angles :')\n",
    "print(maille.angles)\n",
    "print('\\nvecteurs du reseau reciproque :')\n",
    "print(maille_reciproque.angles)\n",
    "print('angles :')\n",
    "print(maille_reciproque.angles)"
   ]
  },
  {
   "cell_type": "code",
   "execution_count": 28,
   "metadata": {},
   "outputs": [
    {
     "name": "stdout",
     "output_type": "stream",
     "text": [
      "systeme crystallin :\n",
      "trigonal\n",
      "\n",
      "groupe ponctuel :\n",
      "-3m\n",
      "\n",
      "type de maille :\n",
      "rhombohedral\n"
     ]
    }
   ],
   "source": [
    "# on recupere le systeme crystallin, le groupe ponctuel et le type de maille\n",
    "\n",
    "an = az.SpacegroupAnalyzer(structure)\n",
    "\n",
    "print('systeme crystallin :')\n",
    "print(an.get_crystal_system())\n",
    "print('\\ngroupe ponctuel :')\n",
    "print(an.get_point_group_symbol())\n",
    "print('\\ntype de maille :')\n",
    "print(an.get_lattice_type())"
   ]
  },
  {
   "cell_type": "code",
   "execution_count": null,
   "metadata": {},
   "outputs": [],
   "source": []
  }
 ],
 "metadata": {
  "kernelspec": {
   "display_name": "Python 3",
   "language": "python",
   "name": "python3"
  },
  "language_info": {
   "codemirror_mode": {
    "name": "ipython",
    "version": 3
   },
   "file_extension": ".py",
   "mimetype": "text/x-python",
   "name": "python",
   "nbconvert_exporter": "python",
   "pygments_lexer": "ipython3",
   "version": "3.6.8"
  }
 },
 "nbformat": 4,
 "nbformat_minor": 2
}

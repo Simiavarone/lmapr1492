{
 "cells": [
  {
   "cell_type": "code",
   "execution_count": 15,
   "metadata": {},
   "outputs": [],
   "source": [
    "# paramètres : je les ai réunis ici afin d'avoir un code 'modulaire' : on peut choisir ce qu'on veut\n",
    "# observer en fonction de paramètres listés ici\n",
    "\n",
    "# pour le choix du matériau\n",
    "cle_materiau = \"mp-20072\"\n",
    "\n",
    "# propre à l'utilisateur\n",
    "cle_utilisateur = \"om6hvHlirPcyuxXF\"\n",
    "\n",
    "# le nombre de décimales qu'on veut voir pour les valeurs chiffrées\n",
    "dec = 4"
   ]
  },
  {
   "cell_type": "code",
   "execution_count": 16,
   "metadata": {},
   "outputs": [],
   "source": [
    "# téléchargement\n",
    "\n",
    "from pymatgen.symmetry import analyzer as az\n",
    "from pymatgen.ext.matproj import MPRester\n",
    "from numpy import around\n",
    "\n",
    "with MPRester(cle_utilisateur) as m:\n",
    "    structure = m.get_structure_by_material_id(cle_materiau)"
   ]
  },
  {
   "cell_type": "code",
   "execution_count": 17,
   "metadata": {},
   "outputs": [
    {
     "name": "stdout",
     "output_type": "stream",
     "text": [
      "vecteurs du reseau de base :\n",
      "[6.0945 6.0945 6.0945] [ångström] \n",
      "angles :\n",
      "[36.9035 36.9035 36.9035] [ångström] \n",
      "\n",
      "vecteurs du reseau reciproque :\n",
      "[116.3808 116.3808 116.3808] [ångström] \n",
      "angles :\n",
      "[116.3808 116.3808 116.3808] [ångström] \n"
     ]
    }
   ],
   "source": [
    "# on recupere les vecteurs de base, décrits via leurs angles et longueurs, pour la maille réciproque et la maille directe\n",
    "\n",
    "# la structure qu'on va utiliser est une cellule primitive définie selon les principes de Setyawan, W., & Curtarolo, S. (2010)\n",
    "# (information trouvée dans la documentation pymatgen)\n",
    "structure = az.SpacegroupAnalyzer(structure).get_primitive_standard_structure()\n",
    "\n",
    "maille = structure.lattice\n",
    "maille_reciproque = maille.reciprocal_lattice\n",
    "\n",
    "# on imprime les résultats\n",
    "print('vecteurs du reseau de base :')\n",
    "print(str(around(maille.abc,dec))+' [ångström] ')\n",
    "print('angles :')\n",
    "print(str(around(maille.angles,dec))+' [ångström] ')\n",
    "print('\\nvecteurs du reseau reciproque :')\n",
    "print(str(around(maille_reciproque.angles,dec))+' [ångström] ')\n",
    "print('angles :')\n",
    "print(str(around(maille_reciproque.angles,dec))+' [ångström] ')"
   ]
  },
  {
   "cell_type": "markdown",
   "metadata": {},
   "source": [
    "Nous pouvons dès lors remarquer que $a = b = c$ et $\\alpha = \\beta = \\gamma$."
   ]
  },
  {
   "cell_type": "code",
   "execution_count": 18,
   "metadata": {},
   "outputs": [
    {
     "name": "stdout",
     "output_type": "stream",
     "text": [
      "systeme crystallin :\n",
      "trigonal\n",
      "\n",
      "groupe ponctuel :\n",
      "-3m\n",
      "\n",
      "type de maille :\n",
      "rhombohedral\n"
     ]
    }
   ],
   "source": [
    "# on recupere le systeme crystallin, le groupe ponctuel et le type de maille\n",
    "\n",
    "an = az.SpacegroupAnalyzer(structure)\n",
    "\n",
    "print('systeme crystallin :')\n",
    "print(an.get_crystal_system())\n",
    "print('\\ngroupe ponctuel :')\n",
    "print(an.get_point_group_symbol())\n",
    "print('\\ntype de maille :')\n",
    "print(an.get_lattice_type())"
   ]
  },
  {
   "cell_type": "markdown",
   "metadata": {},
   "source": [
    "Comme on pouvait s'y attendre vu que $a = b = c$ et $\\alpha = \\beta = \\gamma$, on a un systeme cristallin trigonal, avec maille rhombohédrique."
   ]
  }
 ],
 "metadata": {
  "kernelspec": {
   "display_name": "Python 3",
   "language": "python",
   "name": "python3"
  },
  "language_info": {
   "codemirror_mode": {
    "name": "ipython",
    "version": 3
   },
   "file_extension": ".py",
   "mimetype": "text/x-python",
   "name": "python",
   "nbconvert_exporter": "python",
   "pygments_lexer": "ipython3",
   "version": "3.6.8"
  }
 },
 "nbformat": 4,
 "nbformat_minor": 2
}

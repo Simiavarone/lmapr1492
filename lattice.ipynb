{
 "cells": [
  {
   "cell_type": "code",
   "execution_count": 9,
   "metadata": {},
   "outputs": [],
   "source": [
    "# téléchargement\n",
    "\n",
    "from pymatgen.symmetry import analyzer as az\n",
    "from pymatgen.ext.matproj import MPRester\n",
    "\n",
    "cle_materiau = \"mp-20072\"\n",
    "cle_utilisateur = \"om6hvHlirPcyuxXF\"\n",
    "\n",
    "with MPRester(cle_utilisateur) as m:\n",
    "    structure = m.get_structure_by_material_id(cle_materiau)"
   ]
  },
  {
   "cell_type": "code",
   "execution_count": 10,
   "metadata": {},
   "outputs": [
    {
     "name": "stdout",
     "output_type": "stream",
     "text": [
      "vecteurs du reseau de base :\n",
      "(6.094486575628851, 6.094486579625087, 6.094486583459561)\n",
      "\n",
      "vecteurs du reseau reciproque :\n",
      "(1.9165129667735905, 1.9165129635864866, 1.916512965000616)\n"
     ]
    }
   ],
   "source": [
    "# on recupere les vecteurs de base\n",
    "\n",
    "maille = structure.lattice\n",
    "\n",
    "vec_direct = maille.abc\n",
    "maille_reciproque = maille.reciprocal_lattice   # we assume we want the standard reciprocal \n",
    "                                                # lattice used for solid state physics\n",
    "vec_reciproque = maille_reciproque.abc\n",
    "\n",
    "# on imprime les résultats\n",
    "print('vecteurs du reseau de base :')\n",
    "print(vec_direct)\n",
    "print('\\nvecteurs du reseau reciproque :')\n",
    "print(vec_reciproque)"
   ]
  },
  {
   "cell_type": "code",
   "execution_count": 12,
   "metadata": {},
   "outputs": [
    {
     "name": "stdout",
     "output_type": "stream",
     "text": [
      "systeme crystallin :\n",
      "trigonal\n",
      "\n",
      "groupe ponctuel :\n",
      "-3m\n",
      "\n",
      "type de maille\n",
      "rhombohedral\n"
     ]
    }
   ],
   "source": [
    "# on recupere le systeme crystallin, le groupe ponctuel et le type de maille\n",
    "\n",
    "analyzer = az.SpacegroupAnalyzer(structure)\n",
    "\n",
    "systeme_cristallin = analyzer.get_crystal_system()\n",
    "groupe_ponctuel = analyzer.get_point_group_symbol()\n",
    "type_maille = analyzer.get_lattice_type()\n",
    "\n",
    "# on imprime ces résultats\n",
    "print('systeme crystallin :')\n",
    "print(systeme_cristallin)\n",
    "print('\\ngroupe ponctuel :')\n",
    "print(groupe_ponctuel)\n",
    "print('\\ntype de maille')\n",
    "print(type_maille)"
   ]
  },
  {
   "cell_type": "code",
   "execution_count": null,
   "metadata": {},
   "outputs": [],
   "source": []
  }
 ],
 "metadata": {
  "kernelspec": {
   "display_name": "Python 3",
   "language": "python",
   "name": "python3"
  }
 },
 "nbformat": 4,
 "nbformat_minor": 2
}

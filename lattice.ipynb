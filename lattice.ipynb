{
 "cells": [
  {
   "cell_type": "code",
   "execution_count": 16,
   "metadata": {},
   "outputs": [],
   "source": [
    "# download\n",
    "\n",
    "from pymatgen.symmetry import analyzer as az\n",
    "from pymatgen.ext.matproj import MPRester\n",
    "\n",
    "mat_key = \"mp-20072\"\n",
    "user_key = \"om6hvHlirPcyuxXF\"\n",
    "\n",
    "with MPRester(user_key) as m:\n",
    "    structure = m.get_structure_by_material_id(mat_key)\n",
    "    \n",
    "structure.to(filename=\"LaCuO2.cif\")"
   ]
  },
  {
   "cell_type": "code",
   "execution_count": 17,
   "metadata": {},
   "outputs": [],
   "source": [
    "# getting the base vectors\n",
    "\n",
    "lattice = structure.lattice\n",
    "\n",
    "vec_reseau_direct = lattice.abc\n",
    "reciprocal_lattice = lattice.reciprocal_lattice   # we assume we want the standard reciprocal \n",
    "                                                  # lattice used for solid state physics\n",
    "vec_reciprocal = reciprocal_lattice.abc\n"
   ]
  },
  {
   "cell_type": "code",
   "execution_count": 18,
   "metadata": {},
   "outputs": [],
   "source": [
    "# we get the crystal system, point group\n",
    "\n",
    "analyzer = az.SpacegroupAnalyzer(structure)\n",
    "\n",
    "crystal_system = analyzer.get_crystal_system()\n",
    "point_group = analyzer.get_point_group_symbol()\n",
    "lattice_type = analyzer.get_lattice_type()"
   ]
  },
  {
   "cell_type": "code",
   "execution_count": null,
   "metadata": {},
   "outputs": [],
   "source": []
  }
 ],
 "metadata": {
  "kernelspec": {
   "display_name": "Python 3",
   "language": "python",
   "name": "python3"
  },
  "language_info": {
   "codemirror_mode": {
    "name": "ipython",
    "version": 3
   },
   "file_extension": ".py",
   "mimetype": "text/x-python",
   "name": "python",
   "nbconvert_exporter": "python",
   "pygments_lexer": "ipython3",
   "version": "3.6.8"
  }
 },
 "nbformat": 4,
 "nbformat_minor": 2
}

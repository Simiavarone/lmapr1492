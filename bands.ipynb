{
 "cells": [
  {
   "cell_type": "code",
   "execution_count": 68,
   "metadata": {},
   "outputs": [],
   "source": [
    "# téléchargement\n",
    "\n",
    "from pymatgen.ext.matproj import MPRester\n",
    "import pymatgen.electronic_structure.core as elstruct\n",
    "from matplotlib import pyplot as plt\n",
    "\n",
    "cle_materiau = \"mp-20072\"\n",
    "cle_utilisateur = \"om6hvHlirPcyuxXF\"\n",
    "\n",
    "with MPRester(cle_utilisateur) as m:\n",
    "    band = m.get_bandstructure_by_material_id(cle_materiau)"
   ]
  },
  {
   "cell_type": "code",
   "execution_count": 81,
   "metadata": {},
   "outputs": [
    {
     "name": "stdout",
     "output_type": "stream",
     "text": [
      "si a = [0, 500, 8, -5, 12] et numbers = 2,\n",
      "le résultat est : [1, 4]\n",
      "ce qui donne bien les indices des 2 plus grandes valeurs du tableau\n",
      "\n",
      "si on fait l'opération avec max à False, on a : [3, 0]\n",
      "ce qui donne bien les indices des 2 plus petites valeurs du tableau\n"
     ]
    }
   ],
   "source": [
    "# petite fonction utilitaire avec exemple\n",
    "\n",
    "def get_indexes(a, number=1,maxi=True):\n",
    "    \"\"\"\n",
    "    donne dans un tableau les indices des 'numbers' premiers maximums du tableau 'a'\n",
    "    par défaut, la fonction renvoie le maximum du tableau (numbers = 1)\n",
    "    \n",
    "    Si max est mis à 'False', la fonction ne cherche plus les indices des maximus\n",
    "    mais ceux des minimums\n",
    "    \"\"\"\n",
    "    index = [-1]*number\n",
    "    if maxi:\n",
    "        init_value = min(a)\n",
    "        condition = lambda a,b : a > b\n",
    "    else:\n",
    "        init_value = max(a)\n",
    "        condition = lambda a,b : a < b\n",
    "    \n",
    "    for i in range(number):\n",
    "        max_min = init_value\n",
    "        index_i = -1\n",
    "        for j in range(len(a)):\n",
    "            if condition(a[j],max_min)  and j not in index:\n",
    "                max_min = a[j]\n",
    "                index_i = j\n",
    "        index[i] = index_i\n",
    "    \n",
    "    return index\n",
    "    \n",
    "\n",
    "# exemple \n",
    "\n",
    "a = [0,500,8,-5,12]\n",
    "print('si a = '+str(a)+' et numbers = 2,')\n",
    "print('le résultat est : '+str(get_indexes(a,2)))\n",
    "print('ce qui donne bien les indices des 2 plus grandes valeurs du tableau')\n",
    "print('\\nsi on fait l\\'opération avec max à False, on a : '+str(get_indexes(a,2,False)))\n",
    "print('ce qui donne bien les indices des 2 plus petites valeurs du tableau')"
   ]
  },
  {
   "cell_type": "code",
   "execution_count": 83,
   "metadata": {
    "scrolled": false
   },
   "outputs": [
    {
     "name": "stdout",
     "output_type": "stream",
     "text": [
      "La bande interdite est directe ?     : False\n",
      "L'énergie de la bande interdite est  : 2.5162 [V]\n",
      "transition de la bande interdite     : Z-L\n",
      "[-64.4796]\n",
      "[-64.4791]\n",
      "[17.7439]\n",
      "[20.8395]\n"
     ]
    }
   ],
   "source": [
    "# on récupère la bande interdite et on imprime ses attributs\n",
    "band_gap = band.get_band_gap()\n",
    "print('La bande interdite est directe ?     : '+str(band_gap['direct']))\n",
    "print('L\\'énergie de la bande interdite est  : '+str(round(band_gap['energy'],4))+' [V]')\n",
    "print('transition de la bande interdite     : '+band_gap['transition'])\n",
    "\n",
    "\n",
    "# on recupere les donnees pour les premieres et dernieres bandes\n",
    "\n",
    "# The energy eigenvalues as a {spin: ndarray}. Note that the use of an ndarray is necessary\n",
    "# for computational as well as memory efficiency due to the large amount of numerical data. \n",
    "# The indices of the ndarray are [band_index, kpoint_index]\n",
    "\n",
    "cle = elstruct.Spin(1)\n",
    "premiere_bande = band.bands[cle][0]\n",
    "derniere_bande = band.bands[cle][-1]\n",
    "\n",
    "for bande in [premiere_bande, derniere_bande]:\n",
    "    index_max = get_indexes(bande)\n",
    "    index_min = get_indexes(bande,maxi=False)\n",
    "    print(bande[index_min])\n",
    "    print(bande[index_max])"
   ]
  },
  {
   "cell_type": "code",
   "execution_count": null,
   "metadata": {},
   "outputs": [],
   "source": []
  }
 ],
 "metadata": {
  "kernelspec": {
   "display_name": "Python 3",
   "language": "python",
   "name": "python3"
  },
  "language_info": {
   "codemirror_mode": {
    "name": "ipython",
    "version": 3
   },
   "file_extension": ".py",
   "mimetype": "text/x-python",
   "name": "python",
   "nbconvert_exporter": "python",
   "pygments_lexer": "ipython3",
   "version": "3.6.8"
  }
 },
 "nbformat": 4,
 "nbformat_minor": 2
}

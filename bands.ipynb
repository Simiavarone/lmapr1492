{
 "cells": [
  {
   "cell_type": "code",
   "execution_count": 1,
   "metadata": {},
   "outputs": [],
   "source": [
    "# téléchargement\n",
    "\n",
    "from pymatgen.ext.matproj import MPRester\n",
    "import pymatgen.electronic_structure.core as elstruct\n",
    "from pymatgen.electronic_structure import plotter\n",
    "from matplotlib import pyplot as plt\n",
    "import numpy as np\n",
    "\n",
    "cle_materiau = \"mp-20072\"\n",
    "cle_utilisateur = \"om6hvHlirPcyuxXF\"\n",
    "\n",
    "with MPRester(cle_utilisateur) as m:\n",
    "    band = m.get_bandstructure_by_material_id(cle_materiau)\n",
    "    plot = plotter.BSPlotter(band)"
   ]
  },
  {
   "cell_type": "code",
   "execution_count": 2,
   "metadata": {
    "scrolled": false
   },
   "outputs": [
    {
     "name": "stdout",
     "output_type": "stream",
     "text": [
      "La bande interdite est directe ?     : False\n",
      "L'énergie de la bande interdite est  : 2.5162 [eV]\n",
      "transition de la bande interdite     : Z-L\n",
      "\n"
     ]
    }
   ],
   "source": [
    "# on récupère la bande interdite et on imprime ses attributs\n",
    "band_gap = band.get_band_gap()\n",
    "print('La bande interdite est directe ?     : '+str(band_gap['direct']))\n",
    "print('L\\'énergie de la bande interdite est  : '+str(round(band_gap['energy'],4))+' [eV]')\n",
    "print('transition de la bande interdite     : '+band_gap['transition']+'\\n')"
   ]
  },
  {
   "cell_type": "code",
   "execution_count": 3,
   "metadata": {},
   "outputs": [],
   "source": [
    "# on prépare les données pour la suite des calculs\n",
    "\n",
    "# on recupere et prépare les donnees pour les premieres et dernieres bandes de conduction et valence\n",
    "cv_bands = [band.get_vbm(), band.get_cbm()]\n",
    "names = ['dernière bande de valence', 'première bande de conduction']\n",
    "names_to_get_the_data = ['cbm', 'vbm']\n",
    "colors = ['r','g']\n",
    "\n",
    "list = zip(cv_bands, names, names_to_get_the_data, colors)\n",
    "\n",
    "# petit helper pour calculer la pente entre 2 points\n",
    "pente = lambda x,y : (y[-1]-y[0])/(x[-1]-x[0])\n",
    "\n",
    "# on cree la clé utile à recuperer les bandes de frequence\n",
    "cle = elstruct.Spin(1)\n",
    "\n",
    "# on récupère les axes x et y selon lesquels sont plottées les bandes et d'autres données utiles au plot \n",
    "donnees_plot = plot.bs_plot_data()\n",
    "x = donnees_plot.get('distances')\n",
    "y = donnees_plot.get('energy')\n",
    "ticks = donnees_plot.get('ticks').get('distance')\n",
    "nb_ticks = len(x)"
   ]
  },
  {
   "cell_type": "code",
   "execution_count": 4,
   "metadata": {},
   "outputs": [
    {
     "name": "stdout",
     "output_type": "stream",
     "text": [
      "\n",
      "bande(s) correspondant à la dernière bande de valence : \n",
      "18 19 \n",
      "énergie  : 4.0339 eV\n",
      "\n",
      "bande(s) correspondant à la première bande de conduction : \n",
      "20 \n",
      "énergie  : 6.5501 eV\n"
     ]
    },
    {
     "data": {
      "image/png": "[encoded data removed]",
      "text/plain": [
       "<Figure size 432x288 with 1 Axes>"
      ]
     },
     "metadata": {
      "needs_background": "light"
     },
     "output_type": "display_data"
    }
   ],
   "source": [
    "# on imprime les données pour chaque bande avec également un joli plot\n",
    "for info_bm,name,cvbm,color in list:\n",
    "    \n",
    "    index_bandes = info_bm['band_index'][cle]\n",
    "    print('\\nbande(s) correspondant à la '+name+' : ')\n",
    "    \n",
    "    # il faut maintenant chercher les max et min de dispersion pour chaque bande : \n",
    "    # les pentes max et min pour les bandes concernées\n",
    "    pente_bande = np.zeros((len(index_bandes),nb_ticks))\n",
    "    k = 0\n",
    "    for index in index_bandes:\n",
    "        print(index, end=' ')\n",
    "        for i in range(nb_ticks):\n",
    "            yi = y[i].get('1')[index]\n",
    "            xi = x[i]\n",
    "            pente_bande[k][i] = pente(xi, yi)\n",
    "            plt.plot(xi, yi,'b')\n",
    "        k += 1\n",
    "    \n",
    "    print('\\nénergie  : '+str(info_bm['energy'])+' eV')\n",
    "    \n",
    "    \n",
    "    for xi in ticks:\n",
    "        plt.axvline(xi,0,color=\"black\")\n",
    "    \n",
    "    bande = donnees_plot.get(cvbm)\n",
    "    for i in range(len(bande)):\n",
    "        (xi,yi) = bande[i]\n",
    "        plt.plot(xi,yi,'o'+color,markersize=10)\n",
    "        \n",
    "plt.show()"
   ]
  },
  {
   "cell_type": "code",
   "execution_count": null,
   "metadata": {},
   "outputs": [],
   "source": []
  }
 ],
 "metadata": {
  "kernelspec": {
   "display_name": "Python 3",
   "language": "python",
   "name": "python3"
  },
  "language_info": {
   "codemirror_mode": {
    "name": "ipython",
    "version": 3
   },
   "file_extension": ".py",
   "mimetype": "text/x-python",
   "name": "python",
   "nbconvert_exporter": "python",
   "pygments_lexer": "ipython3",
   "version": "3.6.8"
  }
 },
 "nbformat": 4,
 "nbformat_minor": 2
}

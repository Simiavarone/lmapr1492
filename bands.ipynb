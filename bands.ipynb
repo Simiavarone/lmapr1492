{
 "cells": [
  {
   "cell_type": "code",
   "execution_count": 215,
   "metadata": {},
   "outputs": [],
   "source": [
    "# paramètres : je les ai réunis ici afin d'avoir un code 'modulaire' : on peut choisir ce qu'on veut\n",
    "# observer en fonction de paramètres listés ici\n",
    "\n",
    "# pour le choix du matériau\n",
    "cle_materiau = \"mp-20072\"\n",
    "\n",
    "# propre à l'utilisateur\n",
    "cle_utilisateur = \"om6hvHlirPcyuxXF\"\n",
    "\n",
    "# le nombre de décimales qu'on veut voir pour les valeurs chiffrées\n",
    "dec = 4"
   ]
  },
  {
   "cell_type": "code",
   "execution_count": 216,
   "metadata": {},
   "outputs": [],
   "source": [
    "# téléchargement\n",
    "\n",
    "from pymatgen.ext.matproj import MPRester\n",
    "import pymatgen.electronic_structure.core as elstruct\n",
    "from pymatgen.electronic_structure import plotter\n",
    "from matplotlib import pyplot as plt\n",
    "import numpy as np\n",
    "\n",
    "with MPRester(cle_utilisateur) as m:\n",
    "    band = m.get_bandstructure_by_material_id(cle_materiau)\n",
    "    plot = plotter.BSPlotter(band)"
   ]
  },
  {
   "cell_type": "code",
   "execution_count": 217,
   "metadata": {
    "scrolled": false
   },
   "outputs": [
    {
     "name": "stdout",
     "output_type": "stream",
     "text": [
      "La bande interdite est directe ?     : False\n",
      "L'énergie de la bande interdite est  : 2.5162 [eV]\n",
      "transition de la bande interdite     : Z-L\n",
      "\n"
     ]
    }
   ],
   "source": [
    "# on récupère la bande interdite et on imprime ses attributs\n",
    "band_gap = band.get_band_gap()\n",
    "print('La bande interdite est directe ?     : '+str(band_gap['direct']))\n",
    "print('L\\'énergie de la bande interdite est  : '+str(round(band_gap['energy'],dec))+' [eV]')\n",
    "print('transition de la bande interdite     : '+band_gap['transition']+'\\n')"
   ]
  },
  {
   "cell_type": "markdown",
   "metadata": {},
   "source": [
    "Ci dessus se trouvent les caractéristiques de la bande interdite. On peut en dire que si le matériau n'est pas isolant, il faudra un apport d'énergie notable pour augmenter sa conductivité.\n",
    "\n",
    "Si un électron franchit la bande interdite, il passera d'un vecteur d'onde $Z$ à un vecteur d'onde $L$."
   ]
  },
  {
   "cell_type": "code",
   "execution_count": 218,
   "metadata": {},
   "outputs": [],
   "source": [
    "# on prépare les données pour la suite des calculs\n",
    "\n",
    "hbar = 6.582119570e-16\n",
    "\n",
    "# on recupere et prépare les donnees pour les premieres et dernieres bandes de conduction et valence\n",
    "cv_bands = [band.get_cbm(), band.get_vbm()]\n",
    "names = ['première bande de conduction', 'dernière bande de valence']\n",
    "descriptif_m_ef = ['à la base de', 'au sommet de']\n",
    "names_to_get_the_data = ['cbm', 'vbm']\n",
    "colors = ['r','g']\n",
    "\n",
    "list = zip(cv_bands, names, names_to_get_the_data, colors, descriptif_m_ef)\n",
    "\n",
    "# petit helper pour calculer la pente entre 2 points\n",
    "pente = lambda x,y : abs((y[-1]-y[0])/(x[-1]-x[0]))\n",
    "\n",
    "# petit helper pour retourner x[0],y[0],x[-1]-x[0],y[-1]-y[0] (sera utilisé pour tracer les fleches plus loin)\n",
    "coord = lambda x,y,index : [ x[0], y[index][0], x[-1]-x[0], y[index][-1]-y[index][0]]\n",
    "\n",
    "# on cree la clé utile à recuperer les bandes de frequence\n",
    "cle = elstruct.Spin(1)\n",
    "\n",
    "# on récupère les axes x et y selon lesquels sont plottées les bandes et d'autres données utiles au plot \n",
    "donnees_plot = plot.bs_plot_data()\n",
    "x = donnees_plot.get('distances')\n",
    "y = [ yi.get('1') for yi in donnees_plot.get('energy')]\n",
    "ticks = donnees_plot.get('ticks').get('distance')\n",
    "nb_ticks = len(x)"
   ]
  },
  {
   "cell_type": "code",
   "execution_count": 219,
   "metadata": {},
   "outputs": [
    {
     "name": "stdout",
     "output_type": "stream",
     "text": [
      "exemples d'utilisation :\n",
      "\n",
      "si a = [0, 500, 8, -5, 12] et n = 2,\n",
      "le résultat est : [1, 4]\n",
      "ce qui donne bien les indices des 2 plus grandes valeurs du tableau\n",
      "\n",
      "si on fait l'opération avec max à False, on a : [3, 0]\n",
      "ce qui donne bien les indices des 2 plus petites valeurs du tableau\n"
     ]
    }
   ],
   "source": [
    "# petite fonction utilitaire avec exemple\n",
    "\n",
    "def get_indexes(a, n=1,maxi=True):\n",
    "    \"\"\"\n",
    "    Donne dans un tableau les indices des 'n' premiers maximums du tableau 'a' sans le modifier.\n",
    "    Par défaut, la fonction renvoie le maximum du tableau (n = 1) (sans le mettre dans un tableau)\n",
    "    \n",
    "    Si max est mis à 'False', la fonction ne cherche plus les indices des maximums\n",
    "    mais ceux des minimums\n",
    "    \"\"\"\n",
    "    index = [-1]*n\n",
    "    if maxi:\n",
    "        init_value = min(a)\n",
    "        condition = lambda a,b : a > b\n",
    "    else:\n",
    "        init_value = max(a)\n",
    "        condition = lambda a,b : a < b\n",
    "    \n",
    "    for i in range(n):\n",
    "        max_min = init_value\n",
    "        index_i = -1\n",
    "        for j in range(len(a)):\n",
    "            if condition(a[j],max_min)  and j not in index:\n",
    "                max_min = a[j]\n",
    "                index_i = j\n",
    "        index[i] = index_i\n",
    "    \n",
    "    if n == 1 :\n",
    "        return index[0]\n",
    "    else :\n",
    "        return index\n",
    "    \n",
    "# exemple\n",
    "    \n",
    "print('exemples d\\'utilisation :\\n')\n",
    "a = [0,500,8,-5,12]\n",
    "print('si a = '+str(a)+' et n = 2,')\n",
    "print('le résultat est : '+str(get_indexes(a,2)))\n",
    "print('ce qui donne bien les indices des 2 plus grandes valeurs du tableau')\n",
    "print('\\nsi on fait l\\'opération avec max à False, on a : '+str(get_indexes(a,2,False)))\n",
    "print('ce qui donne bien les indices des 2 plus petites valeurs du tableau')"
   ]
  },
  {
   "cell_type": "code",
   "execution_count": 220,
   "metadata": {},
   "outputs": [
    {
     "name": "stdout",
     "output_type": "stream",
     "text": [
      "\n",
      "bande(s) correspondant à la première bande de conduction : \n",
      "20 \n",
      "énergie  : 6.5501 eV\n",
      "\n",
      "Masse effective à la base de la première bande de conduction = 8.267869580956204e-33 [kg]\n",
      "\n",
      "bande(s) correspondant à la dernière bande de valence : \n",
      "18 19 \n",
      "énergie  : 4.0339 eV\n",
      "\n",
      "Masse effective au sommet de la dernière bande de valence = 4.0275197111148927e-32 [kg]\n"
     ]
    },
    {
     "data": {
      "image/png": "[encoded data removed]",
      "text/plain": [
       "<Figure size 432x288 with 1 Axes>"
      ]
     },
     "metadata": {
      "needs_background": "light"
     },
     "output_type": "display_data"
    }
   ],
   "source": [
    "# on imprime les données pour chaque bande avec également un joli plot\n",
    "\n",
    "fig, ax = plt.subplots()\n",
    "\n",
    "for info_bm,name,cvbm,col,desc in list:\n",
    "    \n",
    "    energie = info_bm['energy']\n",
    "    index_bandes = info_bm['band_index'][cle]\n",
    "    len_index = len(index_bandes)\n",
    "    print('\\nbande(s) correspondant à la '+name+' : ')\n",
    "    \n",
    "    # il faut maintenant chercher les max et min de dispersion pour chaque bande : \n",
    "    # les pentes max et min pour les bandes concernées\n",
    "    pente_bande = [0]*nb_ticks\n",
    "    for index in index_bandes:\n",
    "        print(index, end=' ')\n",
    "        for i in range(nb_ticks):\n",
    "            yi = y[i][index]\n",
    "            xi = x[i]\n",
    "            pente_bande[i] = pente(xi, yi)\n",
    "            plt.plot(xi, yi,'b')\n",
    "        \n",
    "        # un tableau dans lequel on a les index des minimum et maximum de la bande de dispersion\n",
    "        index_m = [get_indexes(pente_bande), get_indexes(pente_bande,maxi = False)]\n",
    "        \n",
    "        # on récupère les coordonnées de début et fin de la zone dans laquelle se trouvent le max\n",
    "        # et le min de dispersion et on trace une jolie fleche\n",
    "        for im in index_m:\n",
    "            pts = coord(x[im], y[im], index)\n",
    "            plt.arrow(pts[0],pts[1],pts[2],pts[3],color=col,width=.04,length_includes_head=True)\n",
    "    \n",
    "    print('\\nénergie  : '+str(energie)+' eV')\n",
    "        \n",
    "    # partie où l'on s'occupe du calcul de la masse effective\n",
    "    norm_k = np.linalg.norm(info_bm['kpoint'].frac_coords)\n",
    "    m_effective = hbar**2*norm_k**2/(2*energie)\n",
    "    print('\\nMasse effective '+desc+' la '+name+' = '+str(m_effective)+' [kg]')\n",
    "    \n",
    "    # on imprime les points marquants les min ou max de la bande en question\n",
    "    # cela aura pour effet de nous montrer le band_gap trouvé plus haut ainsi que le direct_band_gap()\n",
    "    for xi,yi in donnees_plot.get(cvbm):\n",
    "        plt.plot(xi,yi,'o'+col,markersize=8)\n",
    "    \n",
    "for xi in ticks:\n",
    "    plt.axvline(xi,0,color='black')   \n",
    "plt.xlabel('vecteur d\\'onde')\n",
    "plt.ylabel('$ E - E_f [eV] $')\n",
    "plt.title('Structure Electronique')\n",
    "ax.set_xticks(ticks)\n",
    "ax.set_xticklabels(['$\\Gamma$', '$L$ ', '', '$B_l | B$', 'Z', '', '$\\Gamma$', '', 'X|Q', 'F', '', '$P_l$', '', 'Z|L', 'P'])\n",
    "plt.show()"
   ]
  },
  {
   "cell_type": "markdown",
   "metadata": {},
   "source": [
    "Et voici le plot montrant les bandes de valence concernées, avec les flèches indiquant les maximum et minimum de\n",
    "dispersion de ces bandes.\n",
    "\n",
    "Sur le graphe, en plus des 2 points concernant le band_gap() mentionné plus haut, on observe pour le vecteur d'onde $Z|L$, le direct_band_gap(). Celui-ci a une énergie légèrement plus grande que le band_gap() mais n'effectue pas de transition. \n",
    "\n",
    "Les flèches ayant la plus grande pente représentent les maximums de dispersion, celles ayant la plus petite pente représentent les minimums de dispersion.\n",
    "\n",
    "Pour le calcul de la masse effective, j'ai utilisé la formule suivante : \n",
    "$\n",
    "\\begin{equation}\n",
    "    m* = \\frac{\\hbar^2 \\cdot ||k||^2}{2 (\\epsilon(k_p) - \\epsilon_0)}\n",
    "\\end{equation}\n",
    "$\n",
    "en considérant que $\\epsilon(k_p) - \\epsilon_0$ est l'énergie au point maximum ou minimum de bande. Avec $k_p$ le vecteur d'onde correspondant.\n",
    "\n",
    "En effet, l'on a que \n",
    "$\n",
    "\\begin{equation}\n",
    "    \\epsilon(k) = \\epsilon_0 \\pm \\frac{\\hbar^2 \\cdot ||k||^2}{2m*}\n",
    "\\end{equation}\n",
    "$\n",
    "comme on s'intéresse à des états voisins d'un minimum ou maximum de bande.\n",
    "   \n",
    "   \n",
    "### Références\n",
    "\n",
    "1.\t‘adam-p/markdown-here’, GitHub. https://github.com/adam-p/markdown-here (accessed Apr. 01, 2020).\n",
    "2.\t‘Cours : LMAPR1492 - Physique des Matériaux’. https://moodleucl.uclouvain.be/course/view.php?id=7353 (accessed Apr. 03, 2020).\n",
    "3.\t‘Théorie des bandes’, Wikipédia. Dec. 13, 2019, Accessed: Apr. 01, 2020. [Online]. Available: \n",
    "4.\tK. Persson, ‘Materials Data on LaCuO2 (SG:166) by Materials Project’. LBNL Materials Project; Lawrence Berkeley National Laboratory (LBNL), Berkeley, CA (United States), 2014, doi: 10.17188/1195228.\n",
    "    "
   ]
  }
 ],
 "metadata": {
  "kernelspec": {
   "display_name": "Python 3",
   "language": "python",
   "name": "python3"
  },
  "language_info": {
   "codemirror_mode": {
    "name": "ipython",
    "version": 3
   },
   "file_extension": ".py",
   "mimetype": "text/x-python",
   "name": "python",
   "nbconvert_exporter": "python",
   "pygments_lexer": "ipython3",
   "version": "3.6.8"
  }
 },
 "nbformat": 4,
 "nbformat_minor": 2
}

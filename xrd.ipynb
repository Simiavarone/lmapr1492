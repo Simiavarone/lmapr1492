{
 "cells": [
  {
   "cell_type": "code",
   "execution_count": 1,
   "metadata": {},
   "outputs": [],
   "source": [
    "# téléchargement\n",
    "\n",
    "from pymatgen.symmetry import analyzer as az\n",
    "from pymatgen.ext.matproj import MPRester\n",
    "import pymatgen.analysis.diffraction.xrd as xr\n",
    "from matplotlib import pyplot as plt\n",
    "\n",
    "cle_materiau = \"mp-20072\"\n",
    "cle_utilisateur = \"om6hvHlirPcyuxXF\"\n",
    "\n",
    "with MPRester(cle_utilisateur) as m:\n",
    "    structure = m.get_structure_by_material_id(cle_materiau)\n",
    "    structure = az.SpacegroupAnalyzer(structure).get_primitive_standard_structure()"
   ]
  },
  {
   "cell_type": "code",
   "execution_count": 2,
   "metadata": {
    "scrolled": false
   },
   "outputs": [
    {
     "data": {
      "image/png": "[encoded data removed]",
      "text/plain": [
       "<Figure size 432x288 with 1 Axes>"
      ]
     },
     "metadata": {
      "needs_background": "light"
     },
     "output_type": "display_data"
    }
   ],
   "source": [
    "# on fait le calcul du pattern de diffraction pour notre structure\n",
    "calc = xr.XRDCalculator()\n",
    "pat = calc.get_pattern(structure)\n",
    "\n",
    "# on fait un petit plot du pattern de diffraction pour avoir une idée de ce à quoi ça ressemble\n",
    "y = pat.y\n",
    "plt.plot(pat.x,y)\n",
    "plt.xlabel('$ 2\\Theta $')\n",
    "plt.ylabel('Intensité (cps)')\n",
    "plt.title('Figure de diffraction')\n",
    "plt.show()"
   ]
  },
  {
   "cell_type": "code",
   "execution_count": 3,
   "metadata": {},
   "outputs": [
    {
     "name": "stdout",
     "output_type": "stream",
     "text": [
      "si a = [0, 500, 8, -5, 12] et numbers = 2,\n",
      "le résultat est : [1, 4]\n",
      "ce qui donne bien les indices des 2 plus grandes valeurs du tableau\n",
      "\n",
      "si on fait l'opération avec max à False, on a : [3, 0]\n",
      "ce qui donne bien les indices des 2 plus petites valeurs du tableau\n"
     ]
    }
   ],
   "source": [
    "# petite fonction utilitaire avec exemple\n",
    "\n",
    "def get_indexes(a, number=1,maxi=True):\n",
    "    \"\"\"\n",
    "    donne dans un tableau les indices des 'numbers' premiers maximums du tableau 'a'\n",
    "    par défaut, la fonction renvoie le maximum du tableau (numbers = 1)\n",
    "    \n",
    "    Si max est mis à 'False', la fonction ne cherche plus les indices des maximus\n",
    "    mais ceux des minimums\n",
    "    \"\"\"\n",
    "    index = [-1]*number\n",
    "    if maxi:\n",
    "        init_value = min(a)\n",
    "        condition = lambda a,b : a > b\n",
    "    else:\n",
    "        init_value = max(a)\n",
    "        condition = lambda a,b : a < b\n",
    "    \n",
    "    for i in range(number):\n",
    "        max_min = init_value\n",
    "        index_i = -1\n",
    "        for j in range(len(a)):\n",
    "            if condition(a[j],max_min)  and j not in index:\n",
    "                max_min = a[j]\n",
    "                index_i = j\n",
    "        index[i] = index_i\n",
    "    \n",
    "    return index\n",
    "    \n",
    "\n",
    "# exemple \n",
    "\n",
    "a = [0,500,8,-5,12]\n",
    "print('si a = '+str(a)+' et numbers = 2,')\n",
    "print('le résultat est : '+str(get_indexes(a,2)))\n",
    "print('ce qui donne bien les indices des 2 plus grandes valeurs du tableau')\n",
    "print('\\nsi on fait l\\'opération avec max à False, on a : '+str(get_indexes(a,2,False)))\n",
    "print('ce qui donne bien les indices des 2 plus petites valeurs du tableau')"
   ]
  },
  {
   "cell_type": "code",
   "execution_count": 5,
   "metadata": {},
   "outputs": [
    {
     "name": "stdout",
     "output_type": "stream",
     "text": [
      "max : 100.0   indices hkl : (1, 1, 0)   multiplicité : 6\n",
      "max : 42.72   indices hkl : (2, 1, 1)   multiplicité : 6\n",
      "max : 30.65   indices hkl : (1, 0, -1)   multiplicité : 6\n"
     ]
    }
   ],
   "source": [
    "index = get_indexes(y,3)\n",
    "    \n",
    "hkls = pat.hkls\n",
    "for i in index:\n",
    "    dic = hkls[i][0]\n",
    "    print('max : '+str(round(y[i],2))+'   indices hkl : '+str(dic['hkl'])+'   multiplicité : '+str(dic['multiplicity']))"
   ]
  },
  {
   "cell_type": "code",
   "execution_count": null,
   "metadata": {},
   "outputs": [],
   "source": []
  }
 ],
 "metadata": {
  "kernelspec": {
   "display_name": "Python 3",
   "language": "python",
   "name": "python3"
  },
  "language_info": {
   "codemirror_mode": {
    "name": "ipython",
    "version": 3
   },
   "file_extension": ".py",
   "mimetype": "text/x-python",
   "name": "python",
   "nbconvert_exporter": "python",
   "pygments_lexer": "ipython3",
   "version": "3.6.8"
  }
 },
 "nbformat": 4,
 "nbformat_minor": 2
}

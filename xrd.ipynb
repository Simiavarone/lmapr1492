{
 "cells": [
  {
   "cell_type": "code",
   "execution_count": 1,
   "metadata": {},
   "outputs": [],
   "source": [
    "# téléchargement\n",
    "\n",
    "from pymatgen.symmetry import analyzer as az\n",
    "from pymatgen.ext.matproj import MPRester\n",
    "import pymatgen.analysis.diffraction.xrd as xr\n",
    "from matplotlib import pyplot as plt\n",
    "\n",
    "cle_materiau = \"mp-20072\"\n",
    "cle_utilisateur = \"om6hvHlirPcyuxXF\"\n",
    "\n",
    "with MPRester(cle_utilisateur) as m:\n",
    "    structure = m.get_structure_by_material_id(cle_materiau)\n",
    "    structure = az.SpacegroupAnalyzer(structure).get_primitive_standard_structure()"
   ]
  },
  {
   "cell_type": "code",
   "execution_count": 2,
   "metadata": {
    "scrolled": true
   },
   "outputs": [
    {
     "data": {
      "image/png": "[encoded data removed]",
      "text/plain": [
       "<Figure size 432x288 with 1 Axes>"
      ]
     },
     "metadata": {
      "needs_background": "light"
     },
     "output_type": "display_data"
    }
   ],
   "source": [
    "calc = xr.XRDCalculator()\n",
    "pat = calc.get_pattern(structure)\n",
    "\n",
    "y = pat.y\n",
    "plt.plot(pat.x,y)\n",
    "plt.show()"
   ]
  },
  {
   "cell_type": "code",
   "execution_count": 9,
   "metadata": {},
   "outputs": [
    {
     "name": "stdout",
     "output_type": "stream",
     "text": [
      "si a =\n",
      "[0, 500, 8, -5, 12]\n",
      "et numbers = 2, le résultat est :\n",
      "[1, 4]\n",
      "ce qui donne bien les indices des 2 plus grandes valeurs du tableau\n"
     ]
    }
   ],
   "source": [
    "# petite fonction utilitaire avec exemple\n",
    "\n",
    "def get_max_indexes(a, number=1):\n",
    "    \"\"\"\n",
    "    donne dans un tableau les indices des 'numbers' premiers maximums du tableau 'a'\n",
    "    par défaut, la fonction renvoie le maximum du tableau (numbers = 1)\n",
    "    \"\"\"\n",
    "    index = [-1]*number\n",
    "    init_value = min(a)\n",
    "    \n",
    "    for i in range(number):\n",
    "        maxi = init_value\n",
    "        index_max = -1\n",
    "        for j in range(len(a)):\n",
    "            if a[j] > maxi and j not in index:\n",
    "                maxi = a[j]\n",
    "                index_max = j\n",
    "        index[i] = index_max\n",
    "    \n",
    "    return index\n",
    "    \n",
    "\n",
    "# exemple \n",
    "\n",
    "a = [0,500,8,-5,12]\n",
    "print('si a =')\n",
    "print(a)\n",
    "print('et numbers = 2, le résultat est :')\n",
    "print(get_max_indexes(a,2))\n",
    "print('ce qui donne bien les indices des 2 plus grandes valeurs du tableau')"
   ]
  },
  {
   "cell_type": "code",
   "execution_count": 10,
   "metadata": {},
   "outputs": [
    {
     "name": "stdout",
     "output_type": "stream",
     "text": [
      "max : 100.0   indices hkl : (1, 1, 0)   multiplicité : 6\n",
      "max : 42.72   indices hkl : (2, 1, 1)   multiplicité : 6\n",
      "max : 30.65   indices hkl : (1, 0, -1)   multiplicité : 6\n"
     ]
    }
   ],
   "source": [
    "index = get_max_indexes(y,3)\n",
    "    \n",
    "hkls = pat.hkls\n",
    "for i in index:\n",
    "    dict = hkls[i][0]\n",
    "    print('max : '+str(round(y[i],2))+'   indices hkl : '+str(dict['hkl'])+'   multiplicité : '+str(dict['multiplicity']))"
   ]
  },
  {
   "cell_type": "code",
   "execution_count": null,
   "metadata": {},
   "outputs": [],
   "source": []
  }
 ],
 "metadata": {
  "kernelspec": {
   "display_name": "Python 3",
   "language": "python",
   "name": "python3"
  },
  "language_info": {
   "codemirror_mode": {
    "name": "ipython",
    "version": 3
   },
   "file_extension": ".py",
   "mimetype": "text/x-python",
   "name": "python",
   "nbconvert_exporter": "python",
   "pygments_lexer": "ipython3",
   "version": "3.6.8"
  }
 },
 "nbformat": 4,
 "nbformat_minor": 2
}

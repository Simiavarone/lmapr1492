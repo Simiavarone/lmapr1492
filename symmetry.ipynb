{
 "cells": [
  {
   "cell_type": "code",
   "execution_count": 2,
   "metadata": {},
   "outputs": [],
   "source": [
    "# téléchargement\n",
    "\n",
    "from pymatgen.symmetry import analyzer as az\n",
    "from pymatgen.ext.matproj import MPRester\n",
    "from numpy import dot\n",
    "from numpy import around\n",
    "\n",
    "cle_materiau = \"mp-20072\"\n",
    "cle_utilisateur = \"om6hvHlirPcyuxXF\"\n",
    "\n",
    "with MPRester(cle_utilisateur) as m:\n",
    "    structure = m.get_structure_by_material_id(cle_materiau)"
   ]
  },
  {
   "cell_type": "code",
   "execution_count": 17,
   "metadata": {
    "scrolled": true
   },
   "outputs": [
    {
     "name": "stdout",
     "output_type": "stream",
     "text": [
      "\n",
      "\n",
      "symétrie 1:\n",
      "matrice de rotation :\n",
      "[[0. 1. 0.]\n",
      " [0. 0. 1.]\n",
      " [1. 0. 0.]]\n",
      "\n",
      "vecteur de translation : [0. 0. 0.]\n",
      "\n",
      "nouvelle position pour l'atome \"La\" : [ 1.6392  8.35   -0.    ]\n",
      "nouvelle position pour l'atome \"Cu\" : [0. 0. 0.]\n",
      "nouvelle position pour l'atome \"O\" : [ 0.3497  1.7815 -0.    ]\n",
      "\n",
      "\n",
      "symétrie 2:\n",
      "matrice de rotation :\n",
      "[[0. 0. 1.]\n",
      " [1. 0. 0.]\n",
      " [0. 1. 0.]]\n",
      "\n",
      "vecteur de translation : [0. 0. 0.]\n",
      "\n",
      "nouvelle position pour l'atome \"La\" : [-0.      1.6392  8.35  ]\n",
      "nouvelle position pour l'atome \"Cu\" : [0. 0. 0.]\n",
      "nouvelle position pour l'atome \"O\" : [-0.      0.3497  1.7815]\n",
      "\n",
      "\n",
      "symétrie 3:\n",
      "matrice de rotation :\n",
      "[[ 0.  0. -1.]\n",
      " [ 0. -1.  0.]\n",
      " [-1.  0.  0.]]\n",
      "\n",
      "vecteur de translation : [0. 0. 0.]\n",
      "\n",
      "nouvelle position pour l'atome \"La\" : [-1.6392  0.     -8.35  ]\n",
      "nouvelle position pour l'atome \"Cu\" : [0. 0. 0.]\n",
      "nouvelle position pour l'atome \"O\" : [-0.3497  0.     -1.7815]\n"
     ]
    }
   ],
   "source": [
    "an = az.SpacegroupAnalyzer(structure)\n",
    "\n",
    "# on récupère les informations de site sur 3 atomes différents\n",
    "sites = an.get_primitive_standard_structure().sites[0:3]\n",
    "\n",
    "# on prend 3 opérations de symétries différentes de l'identité et qui ne sont pas l'opposé d'une opération déjà utilisée\n",
    "symetries = an.get_symmetry_operations()[2:8:2]\n",
    "\n",
    "# on fait un bel affichage\n",
    "i = 0\n",
    "for s in symetries :\n",
    "    i+=1\n",
    "    rot_matrix = s.rotation_matrix\n",
    "    print('\\n\\nsymétrie '+str(i)+':')\n",
    "    print('matrice de rotation :')\n",
    "    print(rot_matrix)\n",
    "    print('\\nvecteur de translation : '+str(s.translation_vector)+'\\n')\n",
    "    for site in sites :\n",
    "        print('nouvelle position pour l\\'atome \"'+str(site.specie)+'\" : '+str(around(dot(site.coords, rot_matrix),4)))"
   ]
  },
  {
   "cell_type": "code",
   "execution_count": null,
   "metadata": {},
   "outputs": [],
   "source": []
  }
 ],
 "metadata": {
  "kernelspec": {
   "display_name": "Python 3",
   "language": "python",
   "name": "python3"
  },
  "language_info": {
   "codemirror_mode": {
    "name": "ipython",
    "version": 3
   },
   "file_extension": ".py",
   "mimetype": "text/x-python",
   "name": "python",
   "nbconvert_exporter": "python",
   "pygments_lexer": "ipython3",
   "version": "3.6.8"
  }
 },
 "nbformat": 4,
 "nbformat_minor": 2
}

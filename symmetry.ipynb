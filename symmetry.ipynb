{
 "cells": [
  {
   "cell_type": "code",
   "execution_count": 110,
   "metadata": {},
   "outputs": [],
   "source": [
    "# téléchargement\n",
    "\n",
    "from pymatgen.symmetry import analyzer as az\n",
    "from pymatgen.ext.matproj import MPRester\n",
    "import numpy as np\n",
    "\n",
    "cle_materiau = \"mp-20072\"\n",
    "cle_utilisateur = \"om6hvHlirPcyuxXF\"\n",
    "\n",
    "with MPRester(cle_utilisateur) as m:\n",
    "    structure = m.get_structure_by_material_id(cle_materiau)"
   ]
  },
  {
   "cell_type": "code",
   "execution_count": 117,
   "metadata": {},
   "outputs": [
    {
     "name": "stdout",
     "output_type": "stream",
     "text": [
      "[[ 0. -1.  0.]\n",
      " [-1.  0.  0.]\n",
      " [ 0.  0.  1.]]\n",
      "\n",
      "['-y', '-x', 'z']\n"
     ]
    }
   ],
   "source": [
    "# petite fonction utilitaire avec exemple\n",
    "\n",
    "def give_coord(A):\n",
    "    \"\"\"\n",
    "    détermine les nouvelles coordonnées d'un point (x,y,z)\n",
    "    en fonction de la matrice de rotation A:\n",
    "    \n",
    "    A_ij appartient a {1,0,-1}\n",
    "    \n",
    "                    1 0 0\n",
    "    résultat si A = 0 1 0  : ['x','y','z']\n",
    "                    0 0 1\n",
    "    \"\"\"\n",
    "    x = ['x','y','z']\n",
    "    y = ['']*3\n",
    "    index = [0,1,2] \n",
    "    for i in index:\n",
    "        for j in index:\n",
    "            if A[i][j] == 1:\n",
    "                if y[j] == '':\n",
    "                    y[j] = x[i]\n",
    "                else :\n",
    "                    y[j] += '+'+x[i]\n",
    "                \n",
    "            if A[i][j] == -1:\n",
    "                y[j] += '-'+ x[i]\n",
    "    return y\n",
    "\n",
    "A = np.zeros((3,3))\n",
    "A[0][1] = -1\n",
    "A[1][0] = -1\n",
    "A[2][2] = 1\n",
    "print(A,end='\\n\\n')\n",
    "print(give_coord(A))"
   ]
  },
  {
   "cell_type": "code",
   "execution_count": 119,
   "metadata": {
    "scrolled": false
   },
   "outputs": [
    {
     "name": "stdout",
     "output_type": "stream",
     "text": [
      "position de l'atome \"La\" : [ 8.35   -0.      1.6392]\n",
      "position de l'atome \"Cu\" : [0. 0. 0.]\n",
      "position de l'atome \"O\" : [14.9184 -0.      2.9287]\n",
      "\n",
      "\n",
      "symétrie 1:\n",
      "matrice de rotation :\n",
      "[[ 0. -1.  0.]\n",
      " [-1.  0.  0.]\n",
      " [ 0.  0.  1.]]\n",
      "\n",
      "['-y', '-x', 'z']\n",
      "\n",
      "vecteur de translation : [0. 0. 0.]\n",
      "\n",
      "nouvelle position pour l'atome \"La\" : [ 0.     -8.35    1.6392]\n",
      "nouvelle position pour l'atome \"Cu\" : [0. 0. 0.]\n",
      "nouvelle position pour l'atome \"O\" : [  0.     -14.9184   2.9287]\n",
      "\n",
      "\n",
      "symétrie 2:\n",
      "matrice de rotation :\n",
      "[[1. 0. 0.]\n",
      " [0. 1. 0.]\n",
      " [0. 0. 1.]]\n",
      "\n",
      "['x', 'y', 'z']\n",
      "\n",
      "vecteur de translation : [0.67 0.33 0.33]\n",
      "\n",
      "nouvelle position pour l'atome \"La\" : [9.0166 0.3333 1.9726]\n",
      "nouvelle position pour l'atome \"Cu\" : [0.6667 0.3333 0.3333]\n",
      "nouvelle position pour l'atome \"O\" : [15.585   0.3333  3.262 ]\n",
      "\n",
      "\n",
      "symétrie 3:\n",
      "matrice de rotation :\n",
      "[[-1.  0.  0.]\n",
      " [ 0. -1.  0.]\n",
      " [ 0.  0. -1.]]\n",
      "\n",
      "['-x', '-y', '-z']\n",
      "\n",
      "vecteur de translation : [0.33 0.67 0.67]\n",
      "\n",
      "nouvelle position pour l'atome \"La\" : [-8.0166  0.6667 -0.9726]\n",
      "nouvelle position pour l'atome \"Cu\" : [0.3333 0.6667 0.6667]\n",
      "nouvelle position pour l'atome \"O\" : [-14.585    0.6667  -2.262 ]\n"
     ]
    }
   ],
   "source": [
    "an = az.SpacegroupAnalyzer(structure)\n",
    "structure = an.get_conventional_standard_structure()\n",
    "an = az.SpacegroupAnalyzer(structure)\n",
    "\n",
    "\n",
    "# on récupère les informations de site sur 3 atomes différents\n",
    "sites = an.get_primitive_standard_structure().sites[0:3]\n",
    "for site in sites:\n",
    "    print('position de l\\'atome \"'+str(site.specie)+'\" : '+str(np.around(site.coords,4)))\n",
    "\n",
    "# on prend 3 opérations de symétries différentes de l'identité et qui ne sont pas l'opposé d'une opération déjà utilisée\n",
    "all_symetries = an.get_symmetry_operations()\n",
    "symetries = [all_symetries[7], all_symetries[12], all_symetries[25]]\n",
    "\n",
    "# on fait un bel affichage\n",
    "i = 0\n",
    "for s in symetries :\n",
    "    i+=1 \n",
    "    rot_matrix = s.rotation_matrix\n",
    "    tr_vector = s.translation_vector\n",
    "    \n",
    "    print('\\n\\nsymétrie '+str(i)+':')\n",
    "    print('matrice de rotation :')\n",
    "    print(np.around(rot_matrix),end='\\n\\n')\n",
    "    print(give_coord(rot_matrix))\n",
    "    print('\\nvecteur de translation : '+str(np.around(tr_vector,2))+'\\n')\n",
    "    \n",
    "    for site in sites :\n",
    "        new_coord = np.dot(site.coords, rot_matrix)+tr_vector\n",
    "        print('nouvelle position pour l\\'atome \"'+str(site.specie)+'\" : '+str(np.around(new_coord,4)))"
   ]
  },
  {
   "cell_type": "code",
   "execution_count": null,
   "metadata": {},
   "outputs": [],
   "source": []
  }
 ],
 "metadata": {
  "kernelspec": {
   "display_name": "Python 3",
   "language": "python",
   "name": "python3"
  },
  "language_info": {
   "codemirror_mode": {
    "name": "ipython",
    "version": 3
   },
   "file_extension": ".py",
   "mimetype": "text/x-python",
   "name": "python",
   "nbconvert_exporter": "python",
   "pygments_lexer": "ipython3",
   "version": "3.6.8"
  }
 },
 "nbformat": 4,
 "nbformat_minor": 2
}

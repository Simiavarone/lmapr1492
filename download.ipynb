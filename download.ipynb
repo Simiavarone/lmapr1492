{
 "cells": [
  {
   "cell_type": "code",
   "execution_count": 3,
   "metadata": {},
   "outputs": [],
   "source": [
    "from pymatgen.ext.matproj import MPRester\n",
    "\n",
    "mat_key = \"mp-20072\"\n",
    "user_key = \"om6hvHlirPcyuxXF\"\n",
    "\n",
    "with MPRester(user_key) as m:\n",
    "    structure = m.get_structure_by_material_id(mat_key)\n",
    "    \n",
    "structure.to(filename=\"LaCuO2.cif\")"
   ]
  }
 ],
 "metadata": {
  "kernelspec": {
   "display_name": "Python 3",
   "language": "python",
   "name": "python3"
  },
  "language_info": {
   "codemirror_mode": {
    "name": "ipython",
    "version": 3
   },
   "file_extension": ".py",
   "mimetype": "text/x-python",
   "name": "python",
   "nbconvert_exporter": "python",
   "pygments_lexer": "ipython3",
   "version": "3.6.8"
  }
 },
 "nbformat": 4,
 "nbformat_minor": 2
}
